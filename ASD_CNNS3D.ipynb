{
  "nbformat": 4,
  "nbformat_minor": 0,
  "metadata": {
    "colab": {
      "provenance": [],
      "authorship_tag": "ABX9TyN9ziZjVYLEN5aZjevlfJ+z",
      "include_colab_link": true
    },
    "kernelspec": {
      "name": "python3",
      "display_name": "Python 3"
    },
    "language_info": {
      "name": "python"
    }
  },
  "cells": [
    {
      "cell_type": "markdown",
      "metadata": {
        "id": "view-in-github",
        "colab_type": "text"
      },
      "source": [
        "<a href=\"https://colab.research.google.com/github/Song20011219/song/blob/main/ASD_CNNS3D.ipynb\" target=\"_parent\"><img src=\"https://colab.research.google.com/assets/colab-badge.svg\" alt=\"Open In Colab\"/></a>"
      ]
    },
    {
      "cell_type": "code",
      "execution_count": null,
      "metadata": {
        "id": "JRYWtX1pLGUT"
      },
      "outputs": [],
      "source": [
        "import os\n",
        "from datetime import datetime\n",
        "import logging\n",
        "import torch\n",
        "import torch.nn as nn\n",
        "import torch.optim as optim\n",
        "from torch.utils.data import DataLoader\n",
        "from torch.utils.tensorboard import SummaryWriter\n",
        "import torchvision.transforms as transforms\n",
        "from dataset import ASD_Isolated\n",
        "from train import train_epoch\n",
        "from validation import val_epoch\n",
        "from Conv3D import CNN3D  # 导入Conv3D模型\n",
        "\n",
        "# 设置路径\n",
        "data_path = \"/content/drive/MyDrive/output_frames\"\n",
        "model_path = \"/content/drive/MyDrive/cnn3d_models\"\n",
        "log_path = \"cnn3d_log_{:%Y-%m-%d_%H-%M-%S}.log\".format(datetime.now())\n",
        "sum_path = \"cnn3d_runs_{:%Y-%m-%d_%H-%M-%S}\".format(datetime.now())\n",
        "\n",
        "# 记录到文件和Tensorboard\n",
        "logging.basicConfig(level=logging.INFO, format='%(message)s', handlers=[logging.FileHandler(log_path), logging.StreamHandler()])\n",
        "logger = logging.getLogger('CNN3D')\n",
        "logger.info('记录到文件...')\n",
        "writer = SummaryWriter(sum_path)\n",
        "\n",
        "# 设备设置\n",
        "device = torch.device(\"cuda\" if torch.cuda.is_available() else \"cpu\")\n",
        "\n",
        "# 超参数\n",
        "num_classes = 2\n",
        "epochs = 10\n",
        "batch_size = 8\n",
        "learning_rate = 1e-4\n",
        "log_interval = 20\n",
        "sample_size = 128\n",
        "sample_duration = 30  # 30帧的视频样本\n",
        "\n",
        "# 加载数据\n",
        "transform = transforms.Compose([\n",
        "    transforms.Resize([sample_size, sample_size]),\n",
        "    transforms.ToTensor(),\n",
        "    transforms.Normalize(mean=[0.5, 0.5, 0.5], std=[0.5, 0.5, 0.5])\n",
        "])\n",
        "\n",
        "dataset = ASD_Isolated(data_path=data_path, transform=transform)\n",
        "total_samples = len(dataset)\n",
        "train_size = int(0.8 * total_samples)\n",
        "val_size = total_samples - train_size\n",
        "train_dataset, val_dataset = torch.utils.data.random_split(dataset, [train_size, val_size])\n",
        "\n",
        "train_loader = DataLoader(train_dataset, batch_size=batch_size, shuffle=True, num_workers=4, pin_memory=True)\n",
        "val_loader = DataLoader(val_dataset, batch_size=batch_size, shuffle=False, num_workers=4, pin_memory=True)\n",
        "\n",
        "# 创建Conv3D模型\n",
        "model = Conv3D(sample_size=sample_size, sample_duration=sample_duration, num_classes=num_classes).to(device)\n",
        "\n",
        "# 创建损失函数和优化器\n",
        "criterion = nn.CrossEntropyLoss()\n",
        "optimizer = optim.Adam(model.parameters(), lr=learning_rate)\n",
        "\n",
        "# 开始训练\n",
        "logger.info(\"开始训练\".center(60, '#'))\n",
        "for epoch in range(epochs):\n",
        "    # 训练模型\n",
        "    train_epoch(model, criterion, optimizer, train_loader, device, epoch, logger, log_interval, writer)\n",
        "\n",
        "    # 验证模型\n",
        "    val_epoch(model, criterion, val_loader, device, epoch, logger, writer)\n",
        "\n",
        "    # 保存模型\n",
        "    torch.save(model.state_dict(), os.path.join(model_path, \"cnn3d_epoch{:03d}.pth\".format(epoch+1)))\n",
        "    logger.info(\"第 {} 轮模型已保存\".format(epoch+1).center(60, '#'))\n",
        "\n",
        "logger.info(\"训练完成\".center(60, '#'))\n"
      ]
    }
  ]
}